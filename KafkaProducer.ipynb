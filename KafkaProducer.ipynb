{
 "cells": [
  {
   "cell_type": "code",
   "execution_count": 2,
   "id": "121de8a2-f037-4434-92bd-b51b32dbee01",
   "metadata": {},
   "outputs": [
    {
     "name": "stdout",
     "output_type": "stream",
     "text": [
      "Requirement already satisfied: kafka-python in /opt/anaconda3/lib/python3.12/site-packages (2.0.5)\n",
      "Note: you may need to restart the kernel to use updated packages.\n"
     ]
    }
   ],
   "source": [
    "pip install kafka-python"
   ]
  },
  {
   "cell_type": "code",
   "execution_count": 21,
   "id": "0f30141a-0636-417a-8fa0-206df04c83ae",
   "metadata": {},
   "outputs": [
    {
     "name": "stdout",
     "output_type": "stream",
     "text": [
      "Collecting alpha-vantage\n",
      "  Downloading alpha_vantage-3.0.0-py3-none-any.whl.metadata (12 kB)\n",
      "Requirement already satisfied: aiohttp in /opt/anaconda3/lib/python3.12/site-packages (from alpha-vantage) (3.9.5)\n",
      "Requirement already satisfied: requests in /opt/anaconda3/lib/python3.12/site-packages (from alpha-vantage) (2.32.2)\n",
      "Requirement already satisfied: aiosignal>=1.1.2 in /opt/anaconda3/lib/python3.12/site-packages (from aiohttp->alpha-vantage) (1.2.0)\n",
      "Requirement already satisfied: attrs>=17.3.0 in /opt/anaconda3/lib/python3.12/site-packages (from aiohttp->alpha-vantage) (23.1.0)\n",
      "Requirement already satisfied: frozenlist>=1.1.1 in /opt/anaconda3/lib/python3.12/site-packages (from aiohttp->alpha-vantage) (1.4.0)\n",
      "Requirement already satisfied: multidict<7.0,>=4.5 in /opt/anaconda3/lib/python3.12/site-packages (from aiohttp->alpha-vantage) (6.0.4)\n",
      "Requirement already satisfied: yarl<2.0,>=1.0 in /opt/anaconda3/lib/python3.12/site-packages (from aiohttp->alpha-vantage) (1.9.3)\n",
      "Requirement already satisfied: charset-normalizer<4,>=2 in /opt/anaconda3/lib/python3.12/site-packages (from requests->alpha-vantage) (2.0.4)\n",
      "Requirement already satisfied: idna<4,>=2.5 in /opt/anaconda3/lib/python3.12/site-packages (from requests->alpha-vantage) (3.7)\n",
      "Requirement already satisfied: urllib3<3,>=1.21.1 in /opt/anaconda3/lib/python3.12/site-packages (from requests->alpha-vantage) (2.2.2)\n",
      "Requirement already satisfied: certifi>=2017.4.17 in /opt/anaconda3/lib/python3.12/site-packages (from requests->alpha-vantage) (2024.8.30)\n",
      "Downloading alpha_vantage-3.0.0-py3-none-any.whl (35 kB)\n",
      "Installing collected packages: alpha-vantage\n",
      "Successfully installed alpha-vantage-3.0.0\n"
     ]
    }
   ],
   "source": [
    "!pip install alpha-vantage"
   ]
  },
  {
   "cell_type": "code",
   "execution_count": 23,
   "id": "d2167cf3-5c23-4eb4-aa4f-ec5b2fee61b6",
   "metadata": {},
   "outputs": [],
   "source": [
    "from alpha_vantage.timeseries import TimeSeries"
   ]
  },
  {
   "cell_type": "code",
   "execution_count": 25,
   "id": "45d5919d-b335-482a-93e6-b3e61b8f3e89",
   "metadata": {},
   "outputs": [],
   "source": [
    "import pandas as pd\n",
    "from kafka import KafkaProducer\n",
    "from time import sleep\n",
    "from json import dumps\n",
    "import json\n",
    "import requests\n",
    "import time"
   ]
  },
  {
   "cell_type": "code",
   "execution_count": 27,
   "id": "c00479b7-c708-40a1-b660-1c9d2a64eb6c",
   "metadata": {},
   "outputs": [],
   "source": [
    "producer = KafkaProducer(bootstrap_servers=['18.119.101.110:9092'], \n",
    "                         value_serializer=lambda x: \n",
    "                         dumps(x).encode('utf-8'))"
   ]
  },
  {
   "cell_type": "code",
   "execution_count": 29,
   "id": "4f4a6773-351a-4dc5-8add-ad1acc54fb36",
   "metadata": {},
   "outputs": [
    {
     "data": {
      "text/plain": [
       "<kafka.producer.future.FutureRecordMetadata at 0x1606b78c0>"
      ]
     },
     "execution_count": 29,
     "metadata": {},
     "output_type": "execute_result"
    }
   ],
   "source": [
    "producer.send('demo_test', value={'surnasdasdame':'abhiramk'})"
   ]
  },
  {
   "cell_type": "code",
   "execution_count": 31,
   "id": "fee517d5-e2ae-46c9-8a35-cfc66f22a9e3",
   "metadata": {},
   "outputs": [],
   "source": [
    "API_KEY = 'U1CJJD8MTIGOXDHF'  # Replace with your Alpha Vantage API key\n",
    "SYMBOL = 'IBM'           # Stock symbol to track\n",
    "INTERVAL = '5min'        # Time interval (1min, 5min, 15min, 30min, 60min)\n",
    "OUTPUT_SIZE = 'compact'  # 'compact' (last 100 points) or 'full'\n",
    "\n",
    "# Initialize Alpha Vantage API\n",
    "ts = TimeSeries(key=API_KEY, output_format='pandas')"
   ]
  },
  {
   "cell_type": "code",
   "execution_count": 33,
   "id": "2bc96337-1e69-45aa-b924-b2b99a0b8a3d",
   "metadata": {},
   "outputs": [
    {
     "name": "stdout",
     "output_type": "stream",
     "text": [
      "Error fetching data: Thank you for using Alpha Vantage! Our standard API rate limit is 25 requests per day. Please subscribe to any of the premium plans at https://www.alphavantage.co/premium/ to instantly remove all daily rate limits.\n"
     ]
    }
   ],
   "source": [
    "try:\n",
    "    data, meta_data = ts.get_intraday(\n",
    "        symbol=SYMBOL,\n",
    "        interval=INTERVAL,\n",
    "        outputsize=OUTPUT_SIZE\n",
    "    )\n",
    "    \n",
    "    print(\"Latest Data Points:\")\n",
    "    print(data.tail())  # Show most recent 5 entries\n",
    "    \n",
    "    print(\"\\nMetadata:\")\n",
    "    print(meta_data)\n",
    "\n",
    "except ValueError as e:\n",
    "    print(f\"Error fetching data: {e}\")"
   ]
  },
  {
   "cell_type": "code",
   "execution_count": null,
   "id": "f55097b6-f496-495b-bdf4-cac7edd412a8",
   "metadata": {},
   "outputs": [
    {
     "name": "stdout",
     "output_type": "stream",
     "text": [
      "Raw API Response:\n",
      "{\n",
      "  \"Information\": \"Thank you for using Alpha Vantage! Our standard API rate limit is 25 requests per day. Please subscribe to any of the premium plans at https://www.alphavantage.co/premium/ to instantly remove all daily rate limits.\"\n",
      "}\n"
     ]
    },
    {
     "ename": "ValueError",
     "evalue": "No data received from Alpha Vantage",
     "output_type": "error",
     "traceback": [
      "\u001b[0;31m---------------------------------------------------------------------------\u001b[0m",
      "\u001b[0;31mValueError\u001b[0m                                Traceback (most recent call last)",
      "Cell \u001b[0;32mIn[13], line 38\u001b[0m\n\u001b[1;32m     34\u001b[0m     df \u001b[38;5;241m=\u001b[39m df\u001b[38;5;241m.\u001b[39msort_index(ascending\u001b[38;5;241m=\u001b[39m\u001b[38;5;28;01mTrue\u001b[39;00m)\n\u001b[1;32m     36\u001b[0m     \u001b[38;5;28;01mreturn\u001b[39;00m df\n\u001b[0;32m---> 38\u001b[0m stock_df \u001b[38;5;241m=\u001b[39m create_dataframe(data_points)\n\u001b[1;32m     39\u001b[0m \u001b[38;5;28mprint\u001b[39m(\u001b[38;5;124m\"\u001b[39m\u001b[38;5;124mLatest 5-minute data:\u001b[39m\u001b[38;5;124m\"\u001b[39m)\n\u001b[1;32m     40\u001b[0m \u001b[38;5;28mprint\u001b[39m(stock_df\u001b[38;5;241m.\u001b[39mtail())\n",
      "Cell \u001b[0;32mIn[13], line 5\u001b[0m, in \u001b[0;36mcreate_dataframe\u001b[0;34m(data_points)\u001b[0m\n\u001b[1;32m      2\u001b[0m \u001b[38;5;28;01mdef\u001b[39;00m \u001b[38;5;21mcreate_dataframe\u001b[39m(data_points):\n\u001b[1;32m      3\u001b[0m     \u001b[38;5;66;03m# Check if data is empty\u001b[39;00m\n\u001b[1;32m      4\u001b[0m     \u001b[38;5;28;01mif\u001b[39;00m \u001b[38;5;129;01mnot\u001b[39;00m data_points:\n\u001b[0;32m----> 5\u001b[0m         \u001b[38;5;28;01mraise\u001b[39;00m \u001b[38;5;167;01mValueError\u001b[39;00m(\u001b[38;5;124m\"\u001b[39m\u001b[38;5;124mNo data received from Alpha Vantage\u001b[39m\u001b[38;5;124m\"\u001b[39m)\n\u001b[1;32m      7\u001b[0m     \u001b[38;5;66;03m# Convert nested dictionary to DataFrame\u001b[39;00m\n\u001b[1;32m      8\u001b[0m     df \u001b[38;5;241m=\u001b[39m pd\u001b[38;5;241m.\u001b[39mDataFrame\u001b[38;5;241m.\u001b[39mfrom_dict(data_points, orient\u001b[38;5;241m=\u001b[39m\u001b[38;5;124m'\u001b[39m\u001b[38;5;124mindex\u001b[39m\u001b[38;5;124m'\u001b[39m)\n",
      "\u001b[0;31mValueError\u001b[0m: No data received from Alpha Vantage"
     ]
    }
   ],
   "source": [
    "def get_alpha_vantage_data(api_key, symbol, interval):\n",
    "    url = (\n",
    "        f\"https://www.alphavantage.co/query?function=TIME_SERIES_INTRADAY\"\n",
    "        f\"&symbol={symbol}&interval={interval}&apikey={api_key}\"\n",
    "    )\n",
    "    try:\n",
    "        response = requests.get(url)\n",
    "        response.raise_for_status()  # will raise an exception for HTTP errors\n",
    "        data = response.json()\n",
    "        # You might want to add error-checking if the API returns an error message\n",
    "        return data\n",
    "    except Exception as e:\n",
    "        print(f\"Error fetching data: {e}\")\n",
    "        return None\n"
   ]
  },
  {
   "cell_type": "code",
   "execution_count": null,
   "id": "e5271588-94c9-488f-95c1-460f73d1381e",
   "metadata": {},
   "outputs": [],
   "source": [
    "while True:\n",
    "    data_points = get_alpha_vantage_data()\n",
    "    for timestamp, data in data_points.items():\n",
    "        producer.send('stock-prices', value=data)\n",
    "        print(data)\n",
    "    time.sleep(1)  "
   ]
  },
  {
   "cell_type": "code",
   "execution_count": null,
   "id": "3c3cbfec-fdd8-4fc9-a7f7-06158832b9e5",
   "metadata": {},
   "outputs": [],
   "source": []
  }
 ],
 "metadata": {
  "kernelspec": {
   "display_name": "Python 3 (ipykernel)",
   "language": "python",
   "name": "python3"
  },
  "language_info": {
   "codemirror_mode": {
    "name": "ipython",
    "version": 3
   },
   "file_extension": ".py",
   "mimetype": "text/x-python",
   "name": "python",
   "nbconvert_exporter": "python",
   "pygments_lexer": "ipython3",
   "version": "3.12.4"
  }
 },
 "nbformat": 4,
 "nbformat_minor": 5
}
