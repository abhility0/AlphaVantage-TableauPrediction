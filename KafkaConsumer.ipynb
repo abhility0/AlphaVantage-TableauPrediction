{
 "cells": [
  {
   "cell_type": "code",
   "execution_count": 1,
   "id": "0c8a476c-cf1b-413f-92c9-3a4197a2b4c5",
   "metadata": {},
   "outputs": [],
   "source": [
    "from kafka import KafkaConsumer\n",
    "from time import sleep\n",
    "from json import dumps,loads\n",
    "import json\n",
    "from s3fs import S3FileSystem"
   ]
  },
  {
   "cell_type": "code",
   "execution_count": null,
   "id": "bb61dedf-149f-44e3-88bd-6e32183664a8",
   "metadata": {},
   "outputs": [],
   "source": [
    "import kafka.client_async\n",
    "\n",
    "def _poll_patched(self, timeout):\n",
    "    timeout = int(timeout) if timeout is not None else None\n",
    "    ready = self._selector.select(timeout)\n",
    "    return ready\n",
    "\n",
    "# Monkey-patch the KafkaClient\n",
    "kafka.client_async.KafkaClient._poll = _poll_patched"
   ]
  },
  {
   "cell_type": "code",
   "execution_count": null,
   "id": "1ab32366-30e6-4148-83ee-65d8bf118940",
   "metadata": {},
   "outputs": [],
   "source": [
    "consumer = KafkaConsumer(\n",
    "    'demo_test',\n",
    "     bootstrap_servers=['18.119.101.110:9092'], \n",
    "    value_deserializer=lambda x: loads(x.decode('utf-8')))"
   ]
  },
  {
   "cell_type": "code",
   "execution_count": null,
   "id": "7a73b69e-873b-47d6-afc6-7d449b029cf7",
   "metadata": {},
   "outputs": [],
   "source": [
    "s3 = S3FileSystem()"
   ]
  },
  {
   "cell_type": "code",
   "execution_count": null,
   "id": "e90b7517-9f45-4f4c-86f4-4badead4a76c",
   "metadata": {},
   "outputs": [],
   "source": [
    "S3_BUCKET = 'kafka-stock-ak'\n",
    "S3_PREFIX = 'alpha-stock/'"
   ]
  },
  {
   "cell_type": "code",
   "execution_count": null,
   "id": "6fb0dae4-768c-468b-bf0b-fa863c52e4fe",
   "metadata": {},
   "outputs": [],
   "source": [
    "def write_to_s3(data, timestamp):\n",
    "    # Convert data to DataFrame\n",
    "    df = pd.DataFrame([data])\n",
    "    \n",
    "    # Define S3 path\n",
    "    s3_path = f\"{S3_BUCKET}/{S3_PREFIX}{timestamp}.parquet\"\n",
    "    \n",
    "    # Write DataFrame to S3 as Parquet\n",
    "    with s3.open(s3_path, 'wb') as f:\n",
    "        df.to_parquet(f)\n",
    "    print(f\"Data written to S3: {s3_path}\")"
   ]
  },
  {
   "cell_type": "code",
   "execution_count": null,
   "id": "562c88a4-1c53-4fb5-b995-f670f36d5eca",
   "metadata": {},
   "outputs": [],
   "source": [
    "for message in consumer:\n",
    "    try:\n",
    "        # Parse the message value (JSON)\n",
    "        data = json.loads(message.value.decode('utf-8'))\n",
    "        \n",
    "        # Extract timestamp from the data\n",
    "        timestamp = data.get('timestamp', 'default')\n",
    "        \n",
    "        # Write data to S3\n",
    "        write_to_s3(data, timestamp)\n",
    "    \n",
    "    except Exception as e:\n",
    "        print(f\"Error processing message: {e}\")"
   ]
  },
  {
   "cell_type": "code",
   "execution_count": null,
   "id": "5d71e60c-0f21-45d2-8ade-c7db4c3a8d5b",
   "metadata": {},
   "outputs": [],
   "source": []
  }
 ],
 "metadata": {
  "kernelspec": {
   "display_name": "Python 3 (ipykernel)",
   "language": "python",
   "name": "python3"
  },
  "language_info": {
   "codemirror_mode": {
    "name": "ipython",
    "version": 3
   },
   "file_extension": ".py",
   "mimetype": "text/x-python",
   "name": "python",
   "nbconvert_exporter": "python",
   "pygments_lexer": "ipython3",
   "version": "3.12.4"
  }
 },
 "nbformat": 4,
 "nbformat_minor": 5
}
